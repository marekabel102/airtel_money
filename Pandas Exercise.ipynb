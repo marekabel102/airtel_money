{
 "cells": [
  {
   "cell_type": "code",
   "execution_count": 7,
   "id": "43134ac2-649e-4bbd-a1ed-8b011f8b4a97",
   "metadata": {},
   "outputs": [],
   "source": [
    "import pandas as pd"
   ]
  },
  {
   "cell_type": "code",
   "execution_count": 8,
   "id": "5f073cf5-364c-44e5-b6d9-a9a1a9ec2ce7",
   "metadata": {},
   "outputs": [],
   "source": [
    "df = pd.DataFrame()"
   ]
  },
  {
   "cell_type": "code",
   "execution_count": 3,
   "id": "52af3e0d-46a4-4616-995f-b95ff7e4b79b",
   "metadata": {},
   "outputs": [],
   "source": [
    "list = {\n",
    "    \"Name\":[\"Fudze\",\"Kelz\",\"Offset\",\"Asante\",\"Zai\",\"Huncho\",\"Flora\",\"Grace\",\"Jones\",\"Mada\",\"Mike\",\"Ben\",\"Jupa\",\"Ob\",\"Marek\"],\n",
    "    \"Gender\":[\"Male\",\"Male\",\"Male\",\"Male\",\"Male\",\"Male\",\"Female\",\"Female\",\"Male\",\"Female\",\"Male\",\"Male\",\"Male\",\"Male\",\"Male\"],\n",
    "    \"Nationality\":[\"Malawi\",\"Malawi\",\"Malawi\",\"Malawi\",\"Malawi\",\"Malawi\",\"Malawi\",\"Malawi\",\"Malawi\",\"Malawi\",\"Malawi\",\"Malawi\",\"Malawi\",\"Malawi\",\"Malawi\"],\n",
    "    \"Age\":[16,14,21,20,12,33,21,22,17,19,27,23,18,18,21],\n",
    "    \"Location\":[\"Mzimza\",\"BT\",\"BT\",\"LB\",\"Area 25A\",\"LB\",\"Mtendere\",\"Mayard\",\"Kasungu\",\"Roberts\",\"Area 51\",\"Nsanje\",\"Nyamithuthu\",\"LCC\",\"Dzaleka\"],\n",
    "    \"Status\":[\"Single\",\"Single\",\"Single\",\"Single\",\"Single\",\"Single\",\"Married\",\"Single\",\"Married\",\"Married\",\"Single\",\"Single\",\"Single\",\"Single\",\"Single\"],\n",
    "    \"Qualification\":[\"MSCE Certificate\",\"MSCE Certificate\",\"MSCE Certificate\",\"MSCE Certificate\",\"MSCE Certificate\",\"MSCE Certificate\",\"MSCE Certificate\",\"Bachelor's Degree\",\"Diploma in Science\",\"MSCE Certificate\",\"MSCE Certificate\",\"Degree in Teaching\",\"MSCE Certificate\",\"MSCE Certificate\",\"Diploma in Science\"],\n",
    "}"
   ]
  },
  {
   "cell_type": "code",
   "execution_count": 4,
   "id": "fda3ca76-8286-4582-a82d-5f0044f2ad04",
   "metadata": {},
   "outputs": [
    {
     "name": "stdout",
     "output_type": "stream",
     "text": [
      "      Name  Gender Nationality  Age     Location   Status       Qualification\n",
      "0    Fudze    Male      Malawi   16       Mzimza   Single    MSCE Certificate\n",
      "1     Kelz    Male      Malawi   14           BT   Single    MSCE Certificate\n",
      "2   Offset    Male      Malawi   21           BT   Single    MSCE Certificate\n",
      "3   Asante    Male      Malawi   20           LB   Single    MSCE Certificate\n",
      "4      Zai    Male      Malawi   12     Area 25A   Single    MSCE Certificate\n",
      "5   Huncho    Male      Malawi   33           LB   Single    MSCE Certificate\n",
      "6    Flora  Female      Malawi   21     Mtendere  Married    MSCE Certificate\n",
      "7    Grace  Female      Malawi   22       Mayard   Single   Bachelor's Degree\n",
      "8    Jones    Male      Malawi   17      Kasungu  Married  Diploma in Science\n",
      "9     Mada  Female      Malawi   19      Roberts  Married    MSCE Certificate\n",
      "10    Mike    Male      Malawi   27      Area 51   Single    MSCE Certificate\n",
      "11     Ben    Male      Malawi   23       Nsanje   Single  Degree in Teaching\n",
      "12    Jupa    Male      Malawi   18  Nyamithuthu   Single    MSCE Certificate\n",
      "13      Ob    Male      Malawi   18          LCC   Single    MSCE Certificate\n",
      "14   Marek    Male      Malawi   21      Dzaleka   Single  Diploma in Science\n"
     ]
    }
   ],
   "source": [
    "df = pd.DataFrame(list)\n",
    "print(df)"
   ]
  },
  {
   "cell_type": "code",
   "execution_count": 10,
   "id": "f44db165-99a9-42da-83a1-969b3712ab98",
   "metadata": {},
   "outputs": [
    {
     "data": {
      "text/html": [
       "<div>\n",
       "<style scoped>\n",
       "    .dataframe tbody tr th:only-of-type {\n",
       "        vertical-align: middle;\n",
       "    }\n",
       "\n",
       "    .dataframe tbody tr th {\n",
       "        vertical-align: top;\n",
       "    }\n",
       "\n",
       "    .dataframe thead th {\n",
       "        text-align: right;\n",
       "    }\n",
       "</style>\n",
       "<table border=\"1\" class=\"dataframe\">\n",
       "  <thead>\n",
       "    <tr style=\"text-align: right;\">\n",
       "      <th></th>\n",
       "      <th>qid</th>\n",
       "      <th>qname</th>\n",
       "      <th>question</th>\n",
       "      <th>force_resp</th>\n",
       "      <th>type</th>\n",
       "      <th>selector</th>\n",
       "    </tr>\n",
       "  </thead>\n",
       "  <tbody>\n",
       "    <tr>\n",
       "      <th>0</th>\n",
       "      <td>QID2</td>\n",
       "      <td>MainBranch</td>\n",
       "      <td>Which of the following options best describes ...</td>\n",
       "      <td>True</td>\n",
       "      <td>MC</td>\n",
       "      <td>SAVR</td>\n",
       "    </tr>\n",
       "    <tr>\n",
       "      <th>1</th>\n",
       "      <td>QID127</td>\n",
       "      <td>Age</td>\n",
       "      <td>What is your age?*</td>\n",
       "      <td>True</td>\n",
       "      <td>MC</td>\n",
       "      <td>SAVR</td>\n",
       "    </tr>\n",
       "    <tr>\n",
       "      <th>2</th>\n",
       "      <td>QID296</td>\n",
       "      <td>Employment</td>\n",
       "      <td>Which of the following best describes your cur...</td>\n",
       "      <td>True</td>\n",
       "      <td>MC</td>\n",
       "      <td>MAVR</td>\n",
       "    </tr>\n",
       "    <tr>\n",
       "      <th>3</th>\n",
       "      <td>QID308</td>\n",
       "      <td>RemoteWork</td>\n",
       "      <td>Which best describes your current work situation?</td>\n",
       "      <td>False</td>\n",
       "      <td>MC</td>\n",
       "      <td>SAVR</td>\n",
       "    </tr>\n",
       "    <tr>\n",
       "      <th>4</th>\n",
       "      <td>QID341</td>\n",
       "      <td>Check</td>\n",
       "      <td>Just checking to make sure you are paying atte...</td>\n",
       "      <td>True</td>\n",
       "      <td>MC</td>\n",
       "      <td>SAVR</td>\n",
       "    </tr>\n",
       "    <tr>\n",
       "      <th>...</th>\n",
       "      <td>...</td>\n",
       "      <td>...</td>\n",
       "      <td>...</td>\n",
       "      <td>...</td>\n",
       "      <td>...</td>\n",
       "      <td>...</td>\n",
       "    </tr>\n",
       "    <tr>\n",
       "      <th>82</th>\n",
       "      <td>QID337</td>\n",
       "      <td>JobSatPoints_7</td>\n",
       "      <td>Learning and using new technology, including p...</td>\n",
       "      <td>NaN</td>\n",
       "      <td>MC</td>\n",
       "      <td>MAVR</td>\n",
       "    </tr>\n",
       "    <tr>\n",
       "      <th>83</th>\n",
       "      <td>QID337</td>\n",
       "      <td>JobSatPoints_8</td>\n",
       "      <td>Designing and building environments, databases...</td>\n",
       "      <td>NaN</td>\n",
       "      <td>MC</td>\n",
       "      <td>MAVR</td>\n",
       "    </tr>\n",
       "    <tr>\n",
       "      <th>84</th>\n",
       "      <td>QID337</td>\n",
       "      <td>JobSatPoints_9</td>\n",
       "      <td>Being a power user of a tool, developer langua...</td>\n",
       "      <td>NaN</td>\n",
       "      <td>MC</td>\n",
       "      <td>MAVR</td>\n",
       "    </tr>\n",
       "    <tr>\n",
       "      <th>85</th>\n",
       "      <td>QID337</td>\n",
       "      <td>JobSatPoints_10</td>\n",
       "      <td>Working with new and/or top-quality hardware</td>\n",
       "      <td>NaN</td>\n",
       "      <td>MC</td>\n",
       "      <td>MAVR</td>\n",
       "    </tr>\n",
       "    <tr>\n",
       "      <th>86</th>\n",
       "      <td>QID337</td>\n",
       "      <td>JobSatPoints_11</td>\n",
       "      <td>A well-staffed/sourced internal network that m...</td>\n",
       "      <td>NaN</td>\n",
       "      <td>MC</td>\n",
       "      <td>MAVR</td>\n",
       "    </tr>\n",
       "  </tbody>\n",
       "</table>\n",
       "<p>87 rows × 6 columns</p>\n",
       "</div>"
      ],
      "text/plain": [
       "       qid            qname  \\\n",
       "0     QID2       MainBranch   \n",
       "1   QID127              Age   \n",
       "2   QID296       Employment   \n",
       "3   QID308       RemoteWork   \n",
       "4   QID341            Check   \n",
       "..     ...              ...   \n",
       "82  QID337   JobSatPoints_7   \n",
       "83  QID337   JobSatPoints_8   \n",
       "84  QID337   JobSatPoints_9   \n",
       "85  QID337  JobSatPoints_10   \n",
       "86  QID337  JobSatPoints_11   \n",
       "\n",
       "                                             question force_resp type selector  \n",
       "0   Which of the following options best describes ...       True   MC     SAVR  \n",
       "1                                  What is your age?*       True   MC     SAVR  \n",
       "2   Which of the following best describes your cur...       True   MC     MAVR  \n",
       "3   Which best describes your current work situation?      False   MC     SAVR  \n",
       "4   Just checking to make sure you are paying atte...       True   MC     SAVR  \n",
       "..                                                ...        ...  ...      ...  \n",
       "82  Learning and using new technology, including p...        NaN   MC     MAVR  \n",
       "83  Designing and building environments, databases...        NaN   MC     MAVR  \n",
       "84  Being a power user of a tool, developer langua...        NaN   MC     MAVR  \n",
       "85       Working with new and/or top-quality hardware        NaN   MC     MAVR  \n",
       "86  A well-staffed/sourced internal network that m...        NaN   MC     MAVR  \n",
       "\n",
       "[87 rows x 6 columns]"
      ]
     },
     "execution_count": 10,
     "metadata": {},
     "output_type": "execute_result"
    }
   ],
   "source": [
    "import pandas as pd\n",
    "df = pd.read_csv(\"survey_results.csv\")\n",
    "df"
   ]
  },
  {
   "cell_type": "code",
   "execution_count": 17,
   "id": "87fba8c7-ae31-436c-9907-8429e1aa7b60",
   "metadata": {},
   "outputs": [
    {
     "name": "stdout",
     "output_type": "stream",
     "text": [
      "qid                                                       QID25\n",
      "qname                                                   EdLevel\n",
      "question      Which of the following best describes the high...\n",
      "force_resp                                                 True\n",
      "type                                                         MC\n",
      "selector                                                   SAVR\n",
      "Name: 6, dtype: object\n"
     ]
    }
   ],
   "source": [
    "var1 = df.iloc[6]\n",
    "print(var1)"
   ]
  },
  {
   "cell_type": "code",
   "execution_count": 16,
   "id": "8b741c81-cd69-4ae2-8da6-513b97b60789",
   "metadata": {},
   "outputs": [
    {
     "name": "stdout",
     "output_type": "stream",
     "text": [
      "qid                                                     QID276\n",
      "qname                                                LearnCode\n",
      "question      How do you learn to code? Select all that apply.\n",
      "force_resp                                               False\n",
      "type                                                        MC\n",
      "selector                                                  MAVR\n",
      "Name: 7, dtype: object\n"
     ]
    }
   ],
   "source": [
    "var2 = df.iloc[7]\n",
    "print(var2)"
   ]
  },
  {
   "cell_type": "code",
   "execution_count": 15,
   "id": "4cd0ce8d-ee5b-49b0-a896-322148811381",
   "metadata": {},
   "outputs": [
    {
     "name": "stdout",
     "output_type": "stream",
     "text": [
      "qid                                                      QID279\n",
      "qname                                                BuyNewTool\n",
      "question      When buying a new tool or software, how do you...\n",
      "force_resp                                                False\n",
      "type                                                         MC\n",
      "selector                                                   MAVR\n",
      "Name: 15, dtype: object\n"
     ]
    }
   ],
   "source": [
    "var3 = df.iloc[15]\n",
    "print(var3)"
   ]
  },
  {
   "cell_type": "code",
   "execution_count": 14,
   "id": "642d0488-9aa5-4cef-ab39-30738ef15aa0",
   "metadata": {},
   "outputs": [
    {
     "name": "stdout",
     "output_type": "stream",
     "text": [
      "qid                                                  QID326\n",
      "qname                                              Industry\n",
      "question      What industry is the company you work for in?\n",
      "force_resp                                            False\n",
      "type                                                     MC\n",
      "selector                                               SAVR\n",
      "Name: 60, dtype: object\n"
     ]
    }
   ],
   "source": [
    "var4 = df.iloc[60]\n",
    "print(var4)"
   ]
  },
  {
   "cell_type": "code",
   "execution_count": 9,
   "id": "acccba67-2ce4-475d-8ad1-2cfb5cb8219f",
   "metadata": {},
   "outputs": [
    {
     "name": "stdout",
     "output_type": "stream",
     "text": [
      "                                                    0\n",
      "0       qid,qname,question,force_resp,type,selector\\n\n",
      "1   QID2,MainBranch,\"Which of the following option...\n",
      "2        QID127,Age,What is your age?*,TRUE,MC,SAVR\\n\n",
      "3   QID296,Employment,Which of the following best ...\n",
      "4   QID308,RemoteWork,Which best describes your cu...\n",
      "..                                                ...\n",
      "83  QID337,JobSatPoints_7,\"Learning and using new ...\n",
      "84  QID337,JobSatPoints_8,\"Designing and building ...\n",
      "85  QID337,JobSatPoints_9,\"Being a power user of a...\n",
      "86  QID337,JobSatPoints_10,Working with new and/or...\n",
      "87  QID337,JobSatPoints_11,A well-staffed/sourced ...\n",
      "\n",
      "[88 rows x 1 columns]\n"
     ]
    }
   ],
   "source": [
    "#Another way of reading a csv file\n",
    "with open(\"survey_results.csv\",\"r\")as file:\n",
    "    res = pd.DataFrame(file)\n",
    "    print(res)\n"
   ]
  },
  {
   "cell_type": "code",
   "execution_count": null,
   "id": "155b9b75-40cc-4486-845b-7792076cdce9",
   "metadata": {},
   "outputs": [],
   "source": []
  }
 ],
 "metadata": {
  "kernelspec": {
   "display_name": "Python 3 (ipykernel)",
   "language": "python",
   "name": "python3"
  },
  "language_info": {
   "codemirror_mode": {
    "name": "ipython",
    "version": 3
   },
   "file_extension": ".py",
   "mimetype": "text/x-python",
   "name": "python",
   "nbconvert_exporter": "python",
   "pygments_lexer": "ipython3",
   "version": "3.13.2"
  },
  "widgets": {
   "application/vnd.jupyter.widget-state+json": {
    "state": {},
    "version_major": 2,
    "version_minor": 0
   }
  }
 },
 "nbformat": 4,
 "nbformat_minor": 5
}
