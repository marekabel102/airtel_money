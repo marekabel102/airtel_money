{
 "cells": [
  {
   "cell_type": "code",
   "execution_count": 1,
   "id": "1560b935-8212-4bdd-9aa3-e49976169bc7",
   "metadata": {},
   "outputs": [
    {
     "name": "stdout",
     "output_type": "stream",
     "text": [
      "<_io.TextIOWrapper name='bank_system_management.csv' mode='w' encoding='cp1252'>\n"
     ]
    }
   ],
   "source": [
    "import pandas as pd\n",
    "import random\n",
    "import csv\n",
    "# with open(\"bank_system_management.csv\",\"w\")as file:\n",
    "#     print(file)"
   ]
  },
  {
   "cell_type": "code",
   "execution_count": 2,
   "id": "0e78a698-7d4f-4fbf-af6a-5b2b367259ab",
   "metadata": {},
   "outputs": [
    {
     "data": {
      "text/html": [
       "<div>\n",
       "<style scoped>\n",
       "    .dataframe tbody tr th:only-of-type {\n",
       "        vertical-align: middle;\n",
       "    }\n",
       "\n",
       "    .dataframe tbody tr th {\n",
       "        vertical-align: top;\n",
       "    }\n",
       "\n",
       "    .dataframe thead th {\n",
       "        text-align: right;\n",
       "    }\n",
       "</style>\n",
       "<table border=\"1\" class=\"dataframe\">\n",
       "  <thead>\n",
       "    <tr style=\"text-align: right;\">\n",
       "      <th></th>\n",
       "      <th>ID_NUMBER</th>\n",
       "      <th>USERNAME</th>\n",
       "      <th>GENDER</th>\n",
       "      <th>PHONE_NUMBER</th>\n",
       "      <th>EMAIL</th>\n",
       "      <th>LOCATION</th>\n",
       "      <th>SOURCE_OF_INCOME</th>\n",
       "      <th>ACCOUNT_NUMBER</th>\n",
       "      <th>AMOUNT_OF_MONEY</th>\n",
       "    </tr>\n",
       "  </thead>\n",
       "  <tbody>\n",
       "  </tbody>\n",
       "</table>\n",
       "</div>"
      ],
      "text/plain": [
       "Empty DataFrame\n",
       "Columns: [ID_NUMBER, USERNAME, GENDER, PHONE_NUMBER, EMAIL, LOCATION, SOURCE_OF_INCOME, ACCOUNT_NUMBER, AMOUNT_OF_MONEY]\n",
       "Index: []"
      ]
     },
     "execution_count": 2,
     "metadata": {},
     "output_type": "execute_result"
    }
   ],
   "source": [
    "import pandas as pd\n",
    "import random\n",
    "import csv\n",
    "\n",
    "info = ['ID_NUMBER','USERNAME','GENDER','PHONE_NUMBER','EMAIL','LOCATION','SOURCE_OF_INCOME','ACCOUNT_NUMBER','AMOUNT_OF_MONEY']\n",
    "\n",
    "with open(\"bank_system_management.csv\",\"w\")as file:\n",
    "    file_write = csv.DictWriter(file,delimiter = ',', fieldnames = info)\n",
    "    file_write.writeheader()\n",
    "\n",
    "fileContent = pd.read_csv(\"bank_system_management.csv\")\n",
    "fileContent"
   ]
  },
  {
   "cell_type": "code",
   "execution_count": 3,
   "id": "79bab442-ceaf-4182-a2c7-158ff148381d",
   "metadata": {},
   "outputs": [],
   "source": [
    "import pandas as pd\n",
    "def create_account():\n",
    "    print(\"--CREATING ACCOUNT--\")\n",
    "\n",
    "    ID = input(\"Enter your ID number: \")\n",
    "    UserName = input (\"Enter your fullname: \")\n",
    "    Gender = input(\"Enter gender M/F: \")\n",
    "    PhoneNumber =input(\"Enter phone number: \")\n",
    "    eMail = input(\"Enter email address: \")\n",
    "    Location = input(\"Enter your original location: \")\n",
    "    Source = input(\"What is your source of income?: \")\n",
    "    AccountNumber =random.randint(123456789,987654321)\n",
    "    Amount = input(\"Enter amount: \")\n",
    "    \n",
    "    data={\n",
    "        'ID_NUMBER':ID,\n",
    "        'USERNAME':UserName,\n",
    "        'GENDER':Gender,\n",
    "        'PHONE_NUMBER':PhoneNumber,\n",
    "        'EMAIL':eMail,\n",
    "        'LOCATION':Location,\n",
    "        'SOURCE_OF_INCOME':Source,\n",
    "        'ACCOUNT_NUMBER':AccountNumber,\n",
    "        'AMOUNT_OF_MONEY':Amount,\n",
    "        }\n",
    "\n",
    "    with open(\"bank_system_management.csv\",\"a\")as file:\n",
    "        file_write = csv.DictWriter(file,delimiter = ',', fieldnames = data)\n",
    "        if file.tell() > 0:\n",
    "            file_write.writerow(data)\n",
    "            \n",
    "fileContent = pd.read_csv(\"bank_system_management.csv\")"
   ]
  },
  {
   "cell_type": "code",
   "execution_count": 4,
   "id": "86a07f8e-fcaa-4164-aabe-c34c127d62b8",
   "metadata": {},
   "outputs": [],
   "source": [
    "import pandas as pd\n",
    "def deposit():\n",
    "    df = pd.read_csv(\"bank_system_management.csv\")\n",
    "    AccountNumber = input (\"Enter Account Number: \")\n",
    "    AccountNumber = int(AccountNumber)\n",
    "    amount = int(input(\"Enter the amount of money to be deposited:\"))\n",
    "    \n",
    "    df.loc[df[\"ACCOUNT_NUMBER\"] == AccountNumber,\"AMOUNT_OF_MONEY\"] += amount\n",
    "    df.to_csv(\"bank_system_management.csv\",index = False)\n",
    "    print(f\"\\nYou have successfully deposited the amount K{amount} to your account!\\n\")"
   ]
  },
  {
   "cell_type": "code",
   "execution_count": 5,
   "id": "1ea5957e-bbf7-4d64-9c77-ad0209729fa2",
   "metadata": {},
   "outputs": [],
   "source": [
    "import pandas as pd\n",
    "def withdraw():\n",
    "    df = pd.read_csv(\"bank_system_management.csv\")\n",
    "    AccountNumber = input (\"Enter Account Number: \")\n",
    "    AccountNumber = int(AccountNumber)\n",
    "    \n",
    "    amount = int(input(\"Enter the amount of money to be withdrawn:\"))\n",
    "    df.loc[df[\"ACCOUNT_NUMBER\"] == AccountNumber,\"AMOUNT_OF_MONEY\"] -= amount\n",
    "    df.to_csv(\"bank_system_management.csv\",index = False)\n",
    "    \n",
    "    print(f\"\\nYou have withdrawn the amount of K{amount} successfully from your account!\\n\")"
   ]
  },
  {
   "cell_type": "code",
   "execution_count": 6,
   "id": "af5d98ef-9185-4b54-94df-8cb05ed59da7",
   "metadata": {},
   "outputs": [],
   "source": [
    "import pandas as pd\n",
    "def update_account():\n",
    "    df = pd.read_csv(\"bank_system_management.csv\")\n",
    "    AccountNumber = input(\"Enter Account Number\")\n",
    "    AccountNumber = int(AccountNumber)\n",
    "   \n",
    "    columnName = input(\"Enter the name of the column to be updated: \")\n",
    "    NewValueColumnName = input(\"Enter the  new value \")\n",
    "    \n",
    "    df.loc[df['ACCOUNT_NUMBER']==AccountNumber,columnName]=NewValueColumnName\n",
    "    df.to_csv(\"bank_system_management.csv\",index = False)\n",
    "    print(f\"You have updated {columnName} to {NewValueColumnName}\")\n",
    "        "
   ]
  },
  {
   "cell_type": "code",
   "execution_count": 7,
   "id": "40ef2412-b086-4343-bcd2-440ee7f628d9",
   "metadata": {},
   "outputs": [],
   "source": [
    "def menu():\n",
    "    while True:\n",
    "        print(\"---BANK ACOUNT MENU---\")\n",
    "        print(\"1:Create Account\")\n",
    "        print(\"2:Deposit Money\")\n",
    "        print(\"3:Withdraw Money\")\n",
    "        print(\"4:Update\")\n",
    "        print(\"5:Exit\")\n",
    "        \n",
    "        choice = int(input(\"Enter your choice: \"))\n",
    "\n",
    "        if choice == 1:\n",
    "            create_account()\n",
    "        elif choice == 2:\n",
    "            deposit()\n",
    "        elif choice == 3:\n",
    "            withdraw()\n",
    "        elif choice == 4:\n",
    "            update_account()\n",
    "        elif choice == 5:\n",
    "            attempt = input(\"Do you want to exit  YES/NO ?:\")\n",
    "            if attempt == \"YES\":\n",
    "                print(\"--\\nYou have exited the bank system\\n\")\n",
    "                break\n",
    "            else:\n",
    "                print(\"Invalid input\")\n",
    "        else:\n",
    "            print(\"Invalid input\")"
   ]
  },
  {
   "cell_type": "code",
   "execution_count": null,
   "id": "5a07ee2c-a55f-468d-ba1f-a41d5c9621b5",
   "metadata": {},
   "outputs": [
    {
     "name": "stdout",
     "output_type": "stream",
     "text": [
      "---BANK ACOUNT MENU---\n",
      "1:Create Account\n",
      "2:Deposit Money\n",
      "3:Withdraw Money\n",
      "4:Update\n",
      "5:Exit\n"
     ]
    },
    {
     "name": "stdin",
     "output_type": "stream",
     "text": [
      "Enter your choice:  1\n"
     ]
    },
    {
     "name": "stdout",
     "output_type": "stream",
     "text": [
      "--CREATING ACCOUNT--\n"
     ]
    },
    {
     "name": "stdin",
     "output_type": "stream",
     "text": [
      "Enter your ID number:  12GADG66\n",
      "Enter your fullname:  Grace Simwera\n",
      "Enter gender M/F:  Male\n",
      "Enter phone number:  +265882791440\n",
      "Enter email address:  gile18@gmail.com\n",
      "Enter your original location:  Lumbadzi\n"
     ]
    }
   ],
   "source": [
    "menu()"
   ]
  },
  {
   "cell_type": "code",
   "execution_count": null,
   "id": "f85a6ccb-eef0-442f-88d5-774bf3742fee",
   "metadata": {},
   "outputs": [],
   "source": []
  }
 ],
 "metadata": {
  "kernelspec": {
   "display_name": "Python 3 (ipykernel)",
   "language": "python",
   "name": "python3"
  },
  "language_info": {
   "codemirror_mode": {
    "name": "ipython",
    "version": 3
   },
   "file_extension": ".py",
   "mimetype": "text/x-python",
   "name": "python",
   "nbconvert_exporter": "python",
   "pygments_lexer": "ipython3",
   "version": "3.13.2"
  },
  "widgets": {
   "application/vnd.jupyter.widget-state+json": {
    "state": {},
    "version_major": 2,
    "version_minor": 0
   }
  }
 },
 "nbformat": 4,
 "nbformat_minor": 5
}
