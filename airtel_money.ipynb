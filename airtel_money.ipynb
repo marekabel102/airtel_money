{
 "cells": [
  {
   "cell_type": "code",
   "execution_count": 1,
   "id": "b564d322-e9ab-4a94-89bc-69e3c3997b0c",
   "metadata": {},
   "outputs": [],
   "source": [
    "def buy_bundle_airtime():\n",
    "    print(\"1:Buy Airtime\")\n",
    "    print(\"2:Buy Bundles\")\n",
    "    choice = input(\"Enter your choice :\")\n",
    "    if choice == \"1\":\n",
    "        number = input(\"Enter the reciever's number:\")\n",
    "        amount=input(\"Enter the amount of Airtime you want to buy:\")\n",
    "        pin = input(\"Enter your PIN:\")\n",
    "        PIN = \"1414\"\n",
    "        if pin == PIN:\n",
    "            print(f\"You have successfully purchased Airtime of K{amount} for {number} via Airtel Money \")\n",
    "        else:\n",
    "            print(\"Invalid PIN!Try again\")\n",
    "    elif choice == \"2\":\n",
    "        print(\"1:Internet Bundles\")\n",
    "        print(\"2:Voice Bundles\")\n",
    "        print(\"3:MyOffer\")\n",
    "        print(\"4:SMS Bundle\")\n",
    "        print(\"5:Kutapa\")\n",
    "        print(\"6:ChezaFaya bundles\")\n",
    "        print(\"7:Weekend Bonus Bundles\")\n",
    "        \n",
    "        bundle_type = input(\"Enter the type of bundle you want to buy:\")\n",
    "        if bundle_type == \"1\":\n",
    "            amount = input(\"Enter the amount of the bundle you want to buy:\")\n",
    "            number=input(\"Enter phone number:\")\n",
    "            pin = input(\"Enter PIN to continue:\")\n",
    "            PIN = \"1414\"\n",
    "            if pin == PIN:\n",
    "                print(f\"You have successfully purchased an Internet Bundle of K{amount}\")\n",
    "            else:\n",
    "                print(\"Invalid PIN.Try again\")\n",
    "        elif bundle_type == \"2\":\n",
    "            print(\"1:Weekly\")\n",
    "            print(\"2:Daily\")\n",
    "            print(\"3:Monthly\")\n",
    "            print(\"4:Chezani Gifting\")\n",
    "            choice = input(\"Enter any number from 1 to 4 to buy voice bundle:\")\n",
    "            number=input(\"Enter phone number:\")\n",
    "            pin = input(\"Enter PIN to continue:\")\n",
    "            PIN =\"1414\"\n",
    "            if choice == \"1\" and pin == PIN:\n",
    "                print(f\"Weekly Voice Bundle purchased successfully to {number}\")\n",
    "            elif choice == \"2\" and pin == PIN:\n",
    "                print(f\"Daily Voice Bundle purchased succesfully to {number}\")\n",
    "            elif choice == \"3\" and pin == PIN:\n",
    "                print(f\"Monthly voice Bundle purchased successfully to {number}\")\n",
    "            elif choice == \"3\" and pin == PIN:\n",
    "                print(f\"Chezani Gifting Bundle purchased successfully to {number}\")\n",
    "            else:\n",
    "                print(\"Invalid input.Try again\")\n",
    "        elif bundle_type == \"3\":\n",
    "            amount = input (\"Enter amount of MyOffer bundle:\")\n",
    "            number=input(\"Enter phone number:\")\n",
    "            pin = input(\"Enter PIN to continue:\")\n",
    "            PIN =\"1414\"\n",
    "            if pin == PIN:\n",
    "                print(f\"MyOffer bundle of K{amount} have purchased successfully\")\n",
    "            else:\n",
    "                print(\"Invalid input.Try again\")\n",
    "        elif bundle_type == \"4\":\n",
    "            print(\"1:Bandulo ya Timasuke SMS\")\n",
    "            print(\"2:Kugulira ena Timasuke SMS\")\n",
    "            choice =input(\"Enter choice 1 and 2:\")\n",
    "            amount=input(\"Enter the bundle amount\")\n",
    "            pin = input(\"Enter PIN to continue:\")\n",
    "            PIN =\"1414\"\n",
    "            if choice == \"1\" and pin == PIN :\n",
    "                print(f\"Voice Bundle of K{amount} is successfully purchased to your account\")\n",
    "            elif choice == \"2\" and pin == PIN:\n",
    "                number = input(\"Enter number:\")\n",
    "                print(f\"You have sent a voice bundle of K{amount} to {number}\")\n",
    "            else:\n",
    "                print(\"Invalid input.Try again\")\n",
    "        elif bundle_type == \"5\":\n",
    "            kutapa = input(\"Enter the amount of money you want to borrow:\")\n",
    "            print(f\"You have successfully borrowed K{kutapa}\")\n",
    "        elif bundle_type == \"6\":\n",
    "            amount = input(\"Enter the amount of Chezafaya bundle you want to purchase:\")\n",
    "            print(f\"ChezaFaya Bundle of K{amount} have been purchased successfully\")\n",
    "        elif bundle_type == \"7\":\n",
    "            amount =input(\"Enter the amount of weekend bonus bundle you want to purchase:\")\n",
    "            print(f\"Weekend bonus Bundle of K{amount} have been purchased successfully\")\n",
    "        else:\n",
    "            print(\"Invalid input.Try again\")\n",
    "    else:\n",
    "        print(\"Invalid input.Try again\")\n",
    "\n",
    "            "
   ]
  },
  {
   "cell_type": "code",
   "execution_count": 2,
   "id": "c46dc77e-49c9-4c6f-98ed-eefc7df5edff",
   "metadata": {},
   "outputs": [],
   "source": [
    "def send_money():\n",
    "    send_money = input(\"Enter the amount of money you want to send:\")\n",
    "    reciever = input(\"Enter the reciever's phone number:\")\n",
    "    pin= input(\"Enter PIN to Continue:\")\n",
    "    PIN=\"1414\"\n",
    "    if pin == PIN:\n",
    "        print(f\"You have successfully sent K{send_money} to {reciever} via Airtel Money\")\n",
    "    else: \n",
    "        print(\"Invalid PIN.Trry again\")"
   ]
  },
  {
   "cell_type": "code",
   "execution_count": 3,
   "id": "f07070cd-7ba4-4511-ab64-1dcb6a0ce945",
   "metadata": {},
   "outputs": [],
   "source": [
    "def make_payments():\n",
    "    payments = input(\"Enter the type of payments you want to carry eg bills or rent:\")\n",
    "    pin= input(\"Enter PIN to Continue:\")\n",
    "    PIN=\"1414\"\n",
    "    if pin == PIN:\n",
    "        print(f\"You have successfully paid for {payments} via Airtel Money\")"
   ]
  },
  {
   "cell_type": "code",
   "execution_count": 4,
   "id": "1620b485-865a-4580-bdac-f017c641765e",
   "metadata": {},
   "outputs": [],
   "source": [
    "def withdrawal_money():\n",
    "    agent_code = input(\"Enter the agent's code:\")\n",
    "    amount = input(\"Enter the amount of the money you want to be withdrawn:\")\n",
    "    pin_input = input(\"Enter PIN to confirm the process:\")\n",
    "    PIN = \"1414\"\n",
    "    if pin_input == PIN:\n",
    "        print(f\"The amount of K{amount} have been withdrawn from your account\")\n",
    "    else:\n",
    "        print(\"The PIN you entered is incorrect!Please enter a correct PIN\")"
   ]
  },
  {
   "cell_type": "code",
   "execution_count": 5,
   "id": "6127c4bf-d399-4043-92b7-5fc36f43ebff",
   "metadata": {},
   "outputs": [],
   "source": [
    "def financial_services():\n",
    "    print(\"1:Kutchova loan\")\n",
    "    print(\"2:Phuka\")\n",
    "    print(\"3:Limodzi insurance\")\n",
    "\n",
    "    service_input = input(\"Enter the type of service to be made:\")\n",
    "    if service_input == \"1\":\n",
    "        print(\"Congrats! you have recieved Kutchova loan\")\n",
    "    elif service_input == \"2\":\n",
    "        print(\"Congrats! you have recieved Phuka from Airtel money\")\n",
    "    elif service_input == \"3\":\n",
    "        print(\"Congrats! you have recieved Limodzi insurance from Airtel money\")\n",
    "    else:\n",
    "        print(\"Invalid input\")\n"
   ]
  },
  {
   "cell_type": "code",
   "execution_count": 6,
   "id": "7ab0236a-736b-4479-b5e3-31886254ab56",
   "metadata": {},
   "outputs": [],
   "source": [
    "def bank():\n",
    "    \n",
    "    print(\"1:Eco Bank\")\n",
    "    print(\"2:FDH Bank\")\n",
    "    print(\"3:First Capital\")\n",
    "    print(\"4:NBS Bank\")\n",
    "    print(\"5:Standard Bank\")\n",
    "    print(\"6:National Bank\")\n",
    "    print(\"7:FINCA\")\n",
    "    print(\"8:CDH Bank\")\n",
    "    print(\"9:Centenary Bank\")\n",
    "    \n",
    "    bank_input = input(\"Enter number to choose your bank:\")\n",
    "    pin= input(\"Enter PIN to Continue:\")\n",
    "    PIN = \"1414\"\n",
    "    if  bank_input == \"1\" and pin == PIN:\n",
    "        print(f\"You have made transactions to Eco Bank\")\n",
    "    elif bank_input == \"2\" and pin == PIN:\n",
    "        print(f\"You have made transactions to FDH Bank\")\n",
    "    elif bank_input == \"3\" and pin == PIN:    \n",
    "        print(f\"You have made transactions to First Capital bank\")\n",
    "    elif bank_input == \"4\" and pin == PIN:    \n",
    "        print(f\"You have made transactions to NBS Bank\")\n",
    "    elif bank_input == \"5\" and pin == PIN:    \n",
    "        print(f\"You have made transactions to Standard Bank\")\n",
    "    elif bank_input == \"6\" and pin == PIN:\n",
    "        print(f\"You have made transactions to National Bank\")\n",
    "    elif bank_input == \"7\" and pin == PIN: \n",
    "        print(f\"You have made transactions to FINCA\")\n",
    "    elif bank_input == \"8\" and pin == PIN:\n",
    "        print(f\"You have made transactions to CDH Bank\")\n",
    "    elif bank_input == \"9\" and pin == PIN:\n",
    "        print(f\"You have made transactions to Centenary Bank\")\n",
    "    else:\n",
    "        print(\"Invalid input.Try again\")"
   ]
  },
  {
   "cell_type": "code",
   "execution_count": 7,
   "id": "583b2bbe-b766-4c9e-8ba8-6bcbffdfea40",
   "metadata": {},
   "outputs": [],
   "source": [
    "def account():\n",
    "    print(\"1:My Pin\")\n",
    "    print(\"2:Reports\")\n",
    "    print(\"3:Check Balance\")\n",
    "    print(\"4:Manage Favorites\")\n",
    "    print(\"5:My Transaction Reversals\")\n",
    "    print(\"6:Change Language\")\n",
    "    choice= input (\"Enter your choice\")\n",
    "\n",
    "\n",
    "\n",
    "\n"
   ]
  },
  {
   "cell_type": "code",
   "execution_count": null,
   "id": "bc801de7-7b07-431b-979a-de2f7641bdeb",
   "metadata": {},
   "outputs": [
    {
     "name": "stdin",
     "output_type": "stream",
     "text": [
      "Enter the Airtel Money code:  *211#\n"
     ]
    },
    {
     "name": "stdout",
     "output_type": "stream",
     "text": [
      "Airtel Money\n",
      "1:Buy bundles\n",
      "2:Send money\n",
      "3:Make payments\n",
      "4:Withdrawal money\n",
      "5:Financial services\n",
      "6:Bank\n",
      "7:Account\n"
     ]
    },
    {
     "name": "stdin",
     "output_type": "stream",
     "text": [
      "Enter any number to contiune: 6\n"
     ]
    },
    {
     "name": "stdout",
     "output_type": "stream",
     "text": [
      "1:Eco Bank\n",
      "2:FDH Bank\n",
      "3:First Capital\n",
      "4:NBS Bank\n",
      "5:Standard Bank\n",
      "6:National Bank\n",
      "7:FINCA\n",
      "8:CDH Bank\n",
      "9:Centenary Bank\n"
     ]
    },
    {
     "name": "stdin",
     "output_type": "stream",
     "text": [
      "Enter number to choose your bank: 6\n",
      "Enter PIN to Continue: 1414\n"
     ]
    },
    {
     "name": "stdout",
     "output_type": "stream",
     "text": [
      "You have made transactions to National Bank\n"
     ]
    },
    {
     "name": "stdin",
     "output_type": "stream",
     "text": [
      "Enter any number to contiune: 2\n",
      "Enter the amount of money you want to send: 4500\n",
      "Enter the reciever's phone number: 0988775788\n",
      "Enter PIN to Continue: 1322\n",
      "Enter any number to contiune: 2\n",
      "Enter the amount of money you want to send: 1322\n",
      "Enter the reciever's phone number: 0988775788\n",
      "Enter PIN to Continue: 1414\n"
     ]
    },
    {
     "name": "stdout",
     "output_type": "stream",
     "text": [
      "You have successfully sent K1322 to 0988775788 via Airtel Money\n"
     ]
    }
   ],
   "source": [
    "def AirtelMoneyMenuList():\n",
    "    code = input(\"Enter the Airtel Money code: \")\n",
    "    if code == \"*211#\":\n",
    "        print(\"Airtel Money\")\n",
    "        print(\"1:Buy bundles\")\n",
    "        print(\"2:Send money\")\n",
    "        print(\"3:Make payments\")\n",
    "        print(\"4:Withdrawal money\")\n",
    "        print(\"5:Financial services\")\n",
    "        print(\"6:Bank\")\n",
    "        print(\"7:Account\")\n",
    "\n",
    "        while True:\n",
    "            input_choice=input(\"Enter any number to contiune:\")\n",
    "            if  input_choice == \"1\":\n",
    "                buy_bundle_airtime()\n",
    "            elif input_choice == \"2\":\n",
    "                send_money()\n",
    "            elif  input_choice == \"3\":\n",
    "                make_payments()\n",
    "            elif  input_choice == \"4\":\n",
    "                withdrawal_money()\n",
    "            elif  input_choice == \"5\":\n",
    "                financial_services()\n",
    "            elif  input_choice == \"6\":\n",
    "                bank()\n",
    "            elif  input_choice == \"7\":\n",
    "                account()\n",
    "            elif  input_choice == \"0\":\n",
    "                attempt=input(\"Do you want to exit  YES/NO ?:\")\n",
    "                if attempt == \"YES\":\n",
    "                    print(\"Connection lost\")\n",
    "                    break\n",
    "                else:\n",
    "                    continue\n",
    "            else:\n",
    "                print(\"Enter a valid number or ask Airtel Money agents for help\")\n",
    "\n",
    "    else:\n",
    "        print(\"Invalid input!please enter a valid code\")\n",
    "\n",
    "\n",
    "AirtelMoneyMenuList()"
   ]
  }
 ],
 "metadata": {
  "kernelspec": {
   "display_name": "Python 3 (ipykernel)",
   "language": "python",
   "name": "python3"
  },
  "language_info": {
   "codemirror_mode": {
    "name": "ipython",
    "version": 3
   },
   "file_extension": ".py",
   "mimetype": "text/x-python",
   "name": "python",
   "nbconvert_exporter": "python",
   "pygments_lexer": "ipython3",
   "version": "3.13.2"
  },
  "widgets": {
   "application/vnd.jupyter.widget-state+json": {
    "state": {},
    "version_major": 2,
    "version_minor": 0
   }
  }
 },
 "nbformat": 4,
 "nbformat_minor": 5
}
