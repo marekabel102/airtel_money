{
 "cells": [
  {
   "cell_type": "code",
   "execution_count": 1,
   "id": "365c7101-0153-4ebb-9a45-76469e9176de",
   "metadata": {},
   "outputs": [
    {
     "name": "stdout",
     "output_type": "stream",
     "text": [
      "<_io.TextIOWrapper name='NEW.csv' mode='w' encoding='cp1252'>\n"
     ]
    }
   ],
   "source": [
    "import pandas as pd\n",
    "import csv\n",
    "with open(\"NEW.csv\",\"w\")as file:\n",
    "    print(file)"
   ]
  },
  {
   "cell_type": "code",
   "execution_count": 2,
   "id": "cde40c8c-635f-4547-9330-eacfcfb2d677",
   "metadata": {},
   "outputs": [
    {
     "data": {
      "text/html": [
       "<div>\n",
       "<style scoped>\n",
       "    .dataframe tbody tr th:only-of-type {\n",
       "        vertical-align: middle;\n",
       "    }\n",
       "\n",
       "    .dataframe tbody tr th {\n",
       "        vertical-align: top;\n",
       "    }\n",
       "\n",
       "    .dataframe thead th {\n",
       "        text-align: right;\n",
       "    }\n",
       "</style>\n",
       "<table border=\"1\" class=\"dataframe\">\n",
       "  <thead>\n",
       "    <tr style=\"text-align: right;\">\n",
       "      <th></th>\n",
       "      <th>IDNumber</th>\n",
       "      <th>FullName</th>\n",
       "      <th>Gender</th>\n",
       "      <th>Nationality</th>\n",
       "      <th>Location</th>\n",
       "      <th>MaritalStatus</th>\n",
       "      <th>PhoneNumber</th>\n",
       "      <th>eMail</th>\n",
       "      <th>Salary</th>\n",
       "    </tr>\n",
       "  </thead>\n",
       "  <tbody>\n",
       "  </tbody>\n",
       "</table>\n",
       "</div>"
      ],
      "text/plain": [
       "Empty DataFrame\n",
       "Columns: [IDNumber, FullName, Gender, Nationality, Location, MaritalStatus, PhoneNumber, eMail, Salary]\n",
       "Index: []"
      ]
     },
     "execution_count": 2,
     "metadata": {},
     "output_type": "execute_result"
    }
   ],
   "source": [
    "header_list = ['IDNumber','FullName','Gender','Nationality','Location','MaritalStatus','PhoneNumber','eMail','Salary']\n",
    "\n",
    "with open(\"NEW.csv\",\"w\")as file:\n",
    "    file_write = csv.DictWriter(file,delimiter = ',', fieldnames = header_list)\n",
    "    file_write.writeheader()\n",
    "\n",
    "fileContent = pd.read_csv(\"NEW.csv\")\n",
    "fileContent"
   ]
  },
  {
   "cell_type": "code",
   "execution_count": 3,
   "id": "a05e2739-4d47-4bc3-8832-b97002fffbc8",
   "metadata": {},
   "outputs": [],
   "source": [
    "def view_employee():\n",
    "    df = pd.read_csv(\"NEW.csv\")\n",
    "    print(df)"
   ]
  },
  {
   "cell_type": "code",
   "execution_count": 4,
   "id": "9d4aac36-caf6-45b6-8eec-00f806238bc1",
   "metadata": {},
   "outputs": [],
   "source": [
    "import pandas as pd\n",
    "def filtering_employee():\n",
    "    column_name = input(\"Enter name to be filtered: \")\n",
    "    value = input(\"Enter the value of column: \")\n",
    "    df = pd.read_csv(\"NEW.csv\")\n",
    "    df.columns = [column.replace(\" \",\"_\")for column in df.columns]\n",
    "    df.query(f\"{column_name} == '{value}'\",inplace = True)\n",
    "    print(df)"
   ]
  },
  {
   "cell_type": "code",
   "execution_count": 5,
   "id": "d166d44a-f3fb-408b-b374-b538731b5f2c",
   "metadata": {},
   "outputs": [],
   "source": [
    "def deleting():\n",
    "    column_name = input(\"Enter name to be deleted: \")\n",
    "    df = pd.read_csv(\"NEW.csv\")\n",
    "    df = df[df['FullName']!=column_name]\n",
    "    df.to_csv('NEW.csv',index= False)\n",
    "    print(\"Delete successfully\")"
   ]
  },
  {
   "cell_type": "code",
   "execution_count": 6,
   "id": "e4e7c766-e43c-4b81-bc32-44dd3ad88a8a",
   "metadata": {},
   "outputs": [
    {
     "data": {
      "text/html": [
       "<div>\n",
       "<style scoped>\n",
       "    .dataframe tbody tr th:only-of-type {\n",
       "        vertical-align: middle;\n",
       "    }\n",
       "\n",
       "    .dataframe tbody tr th {\n",
       "        vertical-align: top;\n",
       "    }\n",
       "\n",
       "    .dataframe thead th {\n",
       "        text-align: right;\n",
       "    }\n",
       "</style>\n",
       "<table border=\"1\" class=\"dataframe\">\n",
       "  <thead>\n",
       "    <tr style=\"text-align: right;\">\n",
       "      <th></th>\n",
       "      <th>IDNumber</th>\n",
       "      <th>FullName</th>\n",
       "      <th>Gender</th>\n",
       "      <th>Nationality</th>\n",
       "      <th>Location</th>\n",
       "      <th>MaritalStatus</th>\n",
       "      <th>PhoneNumber</th>\n",
       "      <th>eMail</th>\n",
       "      <th>Salary</th>\n",
       "    </tr>\n",
       "  </thead>\n",
       "  <tbody>\n",
       "  </tbody>\n",
       "</table>\n",
       "</div>"
      ],
      "text/plain": [
       "Empty DataFrame\n",
       "Columns: [IDNumber, FullName, Gender, Nationality, Location, MaritalStatus, PhoneNumber, eMail, Salary]\n",
       "Index: []"
      ]
     },
     "metadata": {},
     "output_type": "display_data"
    }
   ],
   "source": [
    "def add_employee():\n",
    "    print(\"--ADDING EMPLOYEE--\")\n",
    "    \n",
    "    IDNumber = input(\"Enter ID number: \")\n",
    "    FullName = input (\"Enter fullname: \")\n",
    "    Gender = input(\"Enter gender M/F: \")\n",
    "    Nationality = input(\"Enter country of origin: \")\n",
    "    Location = input(\"Enter place of residence: \")\n",
    "    MaritalStatus = input(\"Enter marital status,either married/single: \")\n",
    "    PhoneNumber =input(\"Enter phone number: \")\n",
    "    eMail = input(\"Enter email address: \")\n",
    "    Salary =input(\"Enter salary\")\n",
    "    data={\n",
    "        'IDNumber':IDNumber,\n",
    "        'FullName':FullName,\n",
    "        'Gender':Gender,\n",
    "        'Nationality':Nationality,\n",
    "        'Location':Location,\n",
    "        'MaritalStatus':MaritalStatus,\n",
    "        'PhoneNumber':PhoneNumber,\n",
    "        'EMail':eMail,\n",
    "        'Salary':Salary,\n",
    "        }\n",
    "    with open(\"NEW.csv\",\"a\")as file:\n",
    "        file_write = csv.DictWriter(file,delimiter = ',', fieldnames = data)\n",
    "        if file.tell() > 0:\n",
    "            \n",
    "            file_write.writerow(data)\n",
    "fileContent = pd.read_csv(\"NEW.csv\")\n",
    "display(fileContent)"
   ]
  },
  {
   "cell_type": "code",
   "execution_count": null,
   "id": "03423b4f-7d0e-4c34-a584-8268bb2f6f2d",
   "metadata": {},
   "outputs": [
    {
     "name": "stdout",
     "output_type": "stream",
     "text": [
      "--MENU OPTIONS--\n",
      "1:Add  Employee\n",
      "2:View Employee\n",
      "3:Filtering\n",
      "4:Deleting\n",
      "Press 0 to Exit program\n"
     ]
    },
    {
     "name": "stdin",
     "output_type": "stream",
     "text": [
      "Enter your choice:  1\n",
      "Enter ID number:  15HQHABO\n",
      "Enter fullname:  Abel Marek\n",
      "Enter gender M/F:  M\n",
      "Enter country of origin:  Malawi\n",
      "Enter place of residence:  Lumbadzi\n",
      "Enter marital status,either married/single:  Single\n",
      "Enter phone number:  +265887132125\n",
      "Enter email address:  marekabel717@gmail.com\n",
      "Enter salary 10K\n"
     ]
    },
    {
     "name": "stdout",
     "output_type": "stream",
     "text": [
      "--MENU OPTIONS--\n",
      "1:Add  Employee\n",
      "2:View Employee\n",
      "3:Filtering\n",
      "4:Deleting\n",
      "Press 0 to Exit program\n"
     ]
    },
    {
     "name": "stdin",
     "output_type": "stream",
     "text": [
      "Enter your choice:  1\n",
      "Enter ID number:  44BGHAGO\n",
      "Enter fullname:  Martha Marek\n",
      "Enter gender M/F:  F\n",
      "Enter country of origin:  Malawi\n",
      "Enter place of residence:  Lumbadz\n",
      "Enter marital status,either married/single:  Married\n",
      "Enter phone number:  +2659900575745\n",
      "Enter email address:  malita17@gmail.com\n",
      "Enter salary 15K\n"
     ]
    },
    {
     "name": "stdout",
     "output_type": "stream",
     "text": [
      "--MENU OPTIONS--\n",
      "1:Add  Employee\n",
      "2:View Employee\n",
      "3:Filtering\n",
      "4:Deleting\n",
      "Press 0 to Exit program\n"
     ]
    },
    {
     "name": "stdin",
     "output_type": "stream",
     "text": [
      "Enter your choice:  1\n",
      "Enter ID number:  09VAR90X\n",
      "Enter fullname:  Mark Cizo\n",
      "Enter gender M/F:  M\n",
      "Enter country of origin:  Zambia\n",
      "Enter place of residence:  Lusaka\n",
      "Enter marital status,either married/single:  Single\n",
      "Enter phone number:  07888976453\n",
      "Enter email address:  markcizo@gmail.com\n",
      "Enter salary 4.5K\n"
     ]
    },
    {
     "name": "stdout",
     "output_type": "stream",
     "text": [
      "--MENU OPTIONS--\n",
      "1:Add  Employee\n",
      "2:View Employee\n",
      "3:Filtering\n",
      "4:Deleting\n",
      "Press 0 to Exit program\n"
     ]
    },
    {
     "name": "stdin",
     "output_type": "stream",
     "text": [
      "Enter your choice:  3\n",
      "Enter name to be filtered:  FullName\n",
      "Enter the value of column:  Mark Cizo\n"
     ]
    },
    {
     "name": "stdout",
     "output_type": "stream",
     "text": [
      "   IDNumber   FullName Gender Nationality Location MaritalStatus  PhoneNumber  \\\n",
      "2  09VAR90X  Mark Cizo      M      Zambia   Lusaka        Single   7888976453   \n",
      "\n",
      "                eMail Salary  \n",
      "2  markcizo@gmail.com   4.5K  \n",
      "--MENU OPTIONS--\n",
      "1:Add  Employee\n",
      "2:View Employee\n",
      "3:Filtering\n",
      "4:Deleting\n",
      "Press 0 to Exit program\n"
     ]
    },
    {
     "name": "stdin",
     "output_type": "stream",
     "text": [
      "Enter your choice:  2\n"
     ]
    },
    {
     "name": "stdout",
     "output_type": "stream",
     "text": [
      "   IDNumber      FullName Gender Nationality  Location MaritalStatus  \\\n",
      "0  15HQHABO    Abel Marek      M      Malawi  Lumbadzi        Single   \n",
      "1  44BGHAGO  Martha Marek      F      Malawi   Lumbadz       Married   \n",
      "2  09VAR90X     Mark Cizo      M      Zambia    Lusaka        Single   \n",
      "\n",
      "     PhoneNumber                   eMail Salary  \n",
      "0   265887132125  marekabel717@gmail.com    10K  \n",
      "1  2659900575745      malita17@gmail.com    15K  \n",
      "2     7888976453      markcizo@gmail.com   4.5K  \n",
      "--MENU OPTIONS--\n",
      "1:Add  Employee\n",
      "2:View Employee\n",
      "3:Filtering\n",
      "4:Deleting\n",
      "Press 0 to Exit program\n"
     ]
    },
    {
     "name": "stdin",
     "output_type": "stream",
     "text": [
      "Enter your choice:  4\n",
      "Enter name to be deleted:  Mark Cizo\n"
     ]
    },
    {
     "name": "stdout",
     "output_type": "stream",
     "text": [
      "Delete successfully\n",
      "--MENU OPTIONS--\n",
      "1:Add  Employee\n",
      "2:View Employee\n",
      "3:Filtering\n",
      "4:Deleting\n",
      "Press 0 to Exit program\n"
     ]
    },
    {
     "name": "stdin",
     "output_type": "stream",
     "text": [
      "Enter your choice:  2\n"
     ]
    },
    {
     "name": "stdout",
     "output_type": "stream",
     "text": [
      "   IDNumber      FullName Gender Nationality  Location MaritalStatus  \\\n",
      "0  15HQHABO    Abel Marek      M      Malawi  Lumbadzi        Single   \n",
      "1  44BGHAGO  Martha Marek      F      Malawi   Lumbadz       Married   \n",
      "\n",
      "     PhoneNumber                   eMail Salary  \n",
      "0   265887132125  marekabel717@gmail.com    10K  \n",
      "1  2659900575745      malita17@gmail.com    15K  \n",
      "--MENU OPTIONS--\n",
      "1:Add  Employee\n",
      "2:View Employee\n",
      "3:Filtering\n",
      "4:Deleting\n",
      "Press 0 to Exit program\n"
     ]
    }
   ],
   "source": [
    "def menu():\n",
    "    while True:\n",
    "        print(\"--MENU OPTIONS--\")\n",
    "        print(\"1:Add  Employee\")\n",
    "        print(\"2:View Employee\")\n",
    "        print(\"3:Filtering\")\n",
    "        print(\"4:Deleting\")\n",
    "        print(f\"Press 0 to Exit program\")\n",
    "\n",
    "        choice = int(input(\"Enter your choice: \"))\n",
    "        if choice == 1:\n",
    "            add_employee()\n",
    "        elif choice == 2:\n",
    "            view_employee()\n",
    "        elif choice == 3:\n",
    "            filtering_employee()\n",
    "        elif choice == 4:\n",
    "            deleting()\n",
    "        elif choice == 0:\n",
    "            choice_input = input(\"Do you want to exit the program ,YES/NO: \")\n",
    "            if choice_input == \"YES\":\n",
    "                print(\"Program Exited\")\n",
    "            else:\n",
    "                break\n",
    "        else:\n",
    "            print(\"invalid input\")\n",
    "menu()"
   ]
  },
  {
   "cell_type": "code",
   "execution_count": null,
   "id": "1696b810-fb42-47f6-a2a8-fe413cd0d5c4",
   "metadata": {},
   "outputs": [],
   "source": [
    "def add_ID_number():\n",
    "    Num = input(\"Enter ID number: \")\n",
    "    contents[\"ID_number\"] = add"
   ]
  },
  {
   "cell_type": "code",
   "execution_count": null,
   "id": "9cd6ac45-f49f-4e81-9968-3365e42b047f",
   "metadata": {},
   "outputs": [],
   "source": [
    "def add_email():\n",
    "    email = input(\"Enter your email address: \")\n",
    "    contents[\"email\"] = add"
   ]
  },
  {
   "cell_type": "code",
   "execution_count": null,
   "id": "1787ed53-dd5c-4824-bb4d-5bfd74d98b62",
   "metadata": {},
   "outputs": [],
   "source": [
    "def add_salary():\n",
    "    salary = input(\"Enter your salary: \")"
   ]
  },
  {
   "cell_type": "code",
   "execution_count": null,
   "id": "05c4e016-06e5-4f2b-91a0-dd4a1d9c3e8d",
   "metadata": {},
   "outputs": [],
   "source": [
    "#import pandas as pd\n",
    "#def filtering_employee():\n",
    "    #column_name = input(\"Enter name to be filtered: \")\n",
    "    #value = input(\"Enter the value of column: \")\n",
    "    #df = pd.read_csv(\"NEW.csv\")\n",
    "    #filter = data[data['column_name'] == \"value\"]"
   ]
  },
  {
   "cell_type": "code",
   "execution_count": null,
   "id": "a79a8526-4f2e-4f14-ba1d-7c6c4e3c74b6",
   "metadata": {},
   "outputs": [],
   "source": []
  }
 ],
 "metadata": {
  "kernelspec": {
   "display_name": "Python 3 (ipykernel)",
   "language": "python",
   "name": "python3"
  },
  "language_info": {
   "codemirror_mode": {
    "name": "ipython",
    "version": 3
   },
   "file_extension": ".py",
   "mimetype": "text/x-python",
   "name": "python",
   "nbconvert_exporter": "python",
   "pygments_lexer": "ipython3",
   "version": "3.13.2"
  },
  "widgets": {
   "application/vnd.jupyter.widget-state+json": {
    "state": {},
    "version_major": 2,
    "version_minor": 0
   }
  }
 },
 "nbformat": 4,
 "nbformat_minor": 5
}
